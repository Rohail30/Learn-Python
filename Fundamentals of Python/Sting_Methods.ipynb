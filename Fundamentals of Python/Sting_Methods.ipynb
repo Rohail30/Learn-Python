{
  "nbformat": 4,
  "nbformat_minor": 0,
  "metadata": {
    "colab": {
      "provenance": [],
      "toc_visible": true
    },
    "kernelspec": {
      "name": "python3",
      "display_name": "Python 3"
    },
    "language_info": {
      "name": "python"
    }
  },
  "cells": [
    {
      "cell_type": "code",
      "source": [
        "# Define a string\n",
        "original_string = \"Hello, World!\"\n",
        "\n",
        "# Slicing Strings\n",
        "sliced_string = original_string[7:]  # Slicing from index 7 to the end\n",
        "print(\"Sliced String:\", sliced_string)  # Output: \"World!\"\n",
        "\n",
        "# Modify Strings\n",
        "modified_string = original_string.replace(\"Hello\", \"Hi\")\n",
        "print(\"Modified String:\", modified_string)  # Output: \"Hi, World!\"\n",
        "\n",
        "# Concatenate Strings\n",
        "additional_string = \" How are you?\"\n",
        "concatenated_string = original_string + additional_string\n",
        "print(\"Concatenated String:\", concatenated_string)  # Output: \"Hello, World! How are you?\"\n",
        "\n",
        "# Format Strings\n",
        "name = \"Alice\"\n",
        "age = 30\n",
        "formatted_string = f\"My name is {name} and I am {age} years old.\"\n",
        "print(\"Formatted String:\", formatted_string)  # Output: \"My name is Alice and I am 30 years old.\"\n",
        "\n",
        "# Escape Characters\n",
        "escaped_string = \"She said: \\\"It's raining!\\\"\"\n",
        "print(\"Escaped String:\", escaped_string)  # Output: She said: \"It's raining!\"\n",
        "\n",
        "# String Methods\n",
        "uppercase_string = original_string.upper()\n",
        "lowercase_string = original_string.lower()\n",
        "capitalized_string = original_string.capitalize()\n",
        "print(\"Uppercase String:\", uppercase_string)  # Output: \"HELLO, WORLD!\"\n",
        "print(\"Lowercase String:\", lowercase_string)  # Output: \"hello, world!\"\n",
        "print(\"Capitalized String:\", capitalized_string)  # Output: \"Hello, world!\"\n"
      ],
      "metadata": {
        "colab": {
          "base_uri": "https://localhost:8080/"
        },
        "id": "AORKGAAwAI_4",
        "outputId": "7759ac92-6082-4292-d1cc-3249e320e7db"
      },
      "execution_count": 10,
      "outputs": [
        {
          "output_type": "stream",
          "name": "stdout",
          "text": [
            "Sliced String: World!\n",
            "Modified String: Hi, World!\n",
            "Concatenated String: Hello, World! How are you?\n",
            "Formatted String: My name is Alice and I am 30 years old.\n",
            "Escaped String: She said: \"It's raining!\"\n",
            "Uppercase String: HELLO, WORLD!\n",
            "Lowercase String: hello, world!\n",
            "Capitalized String: Hello, world!\n"
          ]
        }
      ]
    },
    {
      "cell_type": "code",
      "source": [
        "# Define a string\n",
        "sentence = \"Python is a powerful programming language. Python is also easy to learn.\"\n",
        "\n",
        "# find(): Returns the index of the first occurrence of the specified substring\n",
        "first_occurrence_index = sentence.find(\"Python\")\n",
        "print(\"Index of first occurrence of 'Python':\", first_occurrence_index)  # Output: 0\n",
        "\n",
        "# count(): Returns the number of occurrences of the specified substring\n",
        "occurrences_count = sentence.count(\"Python\")\n",
        "print(\"Number of occurrences of 'Python':\", occurrences_count)  # Output: 2\n",
        "\n",
        "# split(): Splits the string into a list of substrings based on a delimiter\n",
        "words = sentence.split()  # Split by space\n",
        "print(\"Words in the sentence:\", words)\n",
        "# Output: ['Python', 'is', 'a', 'powerful', 'programming', 'language.', 'Python', 'is', 'also', 'easy', 'to', 'learn.']\n",
        "\n",
        "# join(): Joins elements of a list into a single string using a specified separator\n",
        "joined_sentence = \"-\".join(words)\n",
        "print(\"Joined sentence:\", joined_sentence)\n",
        "# Output: \"Python-is-a-powerful-programming-language.-Python-is-also-easy-to-learn.\"\n",
        "\n",
        "# strip(): Removes leading and trailing whitespace characters\n",
        "text_with_spaces = \"   Hello, World!   \"\n",
        "stripped_text = text_with_spaces.strip()\n",
        "print(\"Stripped text:\", stripped_text)  # Output: \"Hello, World!\"\n"
      ],
      "metadata": {
        "colab": {
          "base_uri": "https://localhost:8080/"
        },
        "id": "juAygBATBIwS",
        "outputId": "2dc0b1b9-50d0-45a5-fbe5-2f67a0e17138"
      },
      "execution_count": 11,
      "outputs": [
        {
          "output_type": "stream",
          "name": "stdout",
          "text": [
            "Index of first occurrence of 'Python': 0\n",
            "Number of occurrences of 'Python': 2\n",
            "Words in the sentence: ['Python', 'is', 'a', 'powerful', 'programming', 'language.', 'Python', 'is', 'also', 'easy', 'to', 'learn.']\n",
            "Joined sentence: Python-is-a-powerful-programming-language.-Python-is-also-easy-to-learn.\n",
            "Stripped text: Hello, World!\n"
          ]
        }
      ]
    }
  ]
}