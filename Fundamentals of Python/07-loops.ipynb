{
  "nbformat": 4,
  "nbformat_minor": 0,
  "metadata": {
    "colab": {
      "provenance": [],
      "toc_visible": true
    },
    "kernelspec": {
      "name": "python3",
      "display_name": "Python 3"
    },
    "language_info": {
      "name": "python"
    }
  },
  "cells": [
    {
      "cell_type": "markdown",
      "source": [
        "**For**"
      ],
      "metadata": {
        "id": "48vZdMdIG6DU"
      }
    },
    {
      "cell_type": "code",
      "source": [
        "# Iterating over a sequence (e.g., list)\n",
        "fruits = [\"apple\", \"banana\", \"cherry\"]\n",
        "for fruit in fruits:\n",
        "    print(fruit)\n",
        "# Output:\n",
        "# apple\n",
        "# banana\n",
        "# cherry\n",
        "\n",
        "# Iterating over a range of numbers\n",
        "for i in range(5):\n",
        "    print(i)\n",
        "# Output:\n",
        "# 0\n",
        "# 1\n",
        "# 2\n",
        "# 3\n",
        "# 4\n",
        "\n",
        "# Iterating over a dictionary\n",
        "person = {\"name\": \"John\", \"age\": 30}\n",
        "for key, value in person.items():\n",
        "    print(key, \":\", value)\n",
        "# Output:\n",
        "# name : John\n",
        "# age : 30\n"
      ],
      "metadata": {
        "colab": {
          "base_uri": "https://localhost:8080/"
        },
        "id": "evoThxQOG-Hd",
        "outputId": "29babd19-eb82-42f8-95a5-ee7fcd1c0f1e"
      },
      "execution_count": 31,
      "outputs": [
        {
          "output_type": "stream",
          "name": "stdout",
          "text": [
            "apple\n",
            "banana\n",
            "cherry\n",
            "0\n",
            "1\n",
            "2\n",
            "3\n",
            "4\n",
            "name : John\n",
            "age : 30\n"
          ]
        }
      ]
    },
    {
      "cell_type": "markdown",
      "source": [
        "**while**"
      ],
      "metadata": {
        "id": "v6VaufrqHDgV"
      }
    },
    {
      "cell_type": "code",
      "source": [
        "# Using a while loop to print numbers from 1 to 5\n",
        "num = 1\n",
        "while num <= 5:\n",
        "    print(num)\n",
        "    num += 1\n",
        "# Output:\n",
        "# 1\n",
        "# 2\n",
        "# 3\n",
        "# 4\n",
        "# 5\n",
        "\n",
        "# Using a while loop with break statement\n",
        "num = 1\n",
        "while True:\n",
        "    print(num)\n",
        "    num += 1\n",
        "    if num > 5:\n",
        "        break\n",
        "# Output:\n",
        "# 1\n",
        "# 2\n",
        "# 3\n",
        "# 4\n",
        "# 5\n"
      ],
      "metadata": {
        "colab": {
          "base_uri": "https://localhost:8080/"
        },
        "id": "ATCoW5ZDHFrZ",
        "outputId": "33362430-b979-4ff6-af02-28dcc6d32abe"
      },
      "execution_count": 32,
      "outputs": [
        {
          "output_type": "stream",
          "name": "stdout",
          "text": [
            "1\n",
            "2\n",
            "3\n",
            "4\n",
            "5\n",
            "1\n",
            "2\n",
            "3\n",
            "4\n",
            "5\n"
          ]
        }
      ]
    },
    {
      "cell_type": "markdown",
      "source": [
        "**Loop Control Statements**"
      ],
      "metadata": {
        "id": "OOmcQsheHNWH"
      }
    },
    {
      "cell_type": "code",
      "source": [
        "# Using break statement\n",
        "for num in range(10):\n",
        "    if num == 5:\n",
        "        break\n",
        "    print(num)\n",
        "# Output:\n",
        "# 0\n",
        "# 1\n",
        "# 2\n",
        "# 3\n",
        "# 4\n",
        "\n",
        "# Using continue statement\n",
        "for num in range(5):\n",
        "    if num == 2:\n",
        "        continue\n",
        "    print(num)\n",
        "# Output:\n",
        "# 0\n",
        "# 1\n",
        "# 3\n",
        "# 4\n",
        "\n",
        "# Using pass statement\n",
        "for num in range(5):\n",
        "    if num == 2:\n",
        "        pass\n",
        "    print(num)\n",
        "# Output:\n",
        "# 0\n",
        "# 1\n",
        "# 2\n",
        "# 3\n",
        "# 4\n"
      ],
      "metadata": {
        "colab": {
          "base_uri": "https://localhost:8080/"
        },
        "id": "yn_D8vixHNEZ",
        "outputId": "ed97b880-fbb1-4ee6-e154-7b06d7422639"
      },
      "execution_count": 33,
      "outputs": [
        {
          "output_type": "stream",
          "name": "stdout",
          "text": [
            "0\n",
            "1\n",
            "2\n",
            "3\n",
            "4\n",
            "0\n",
            "1\n",
            "3\n",
            "4\n",
            "0\n",
            "1\n",
            "2\n",
            "3\n",
            "4\n"
          ]
        }
      ]
    }
  ]
}