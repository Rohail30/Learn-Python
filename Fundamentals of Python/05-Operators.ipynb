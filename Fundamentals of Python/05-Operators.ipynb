{
  "nbformat": 4,
  "nbformat_minor": 0,
  "metadata": {
    "colab": {
      "provenance": [],
      "toc_visible": true
    },
    "kernelspec": {
      "name": "python3",
      "display_name": "Python 3"
    },
    "language_info": {
      "name": "python"
    }
  },
  "cells": [
    {
      "cell_type": "markdown",
      "source": [
        "Arithmetic Operators:"
      ],
      "metadata": {
        "id": "LKI3DcXpDK1O"
      }
    },
    {
      "cell_type": "code",
      "source": [
        "# Addition\n",
        "result_addition = 10 + 5\n",
        "print(\"Addition:\", result_addition)  # Output: 15\n",
        "\n",
        "# Subtraction\n",
        "result_subtraction = 10 - 5\n",
        "print(\"Subtraction:\", result_subtraction)  # Output: 5\n",
        "\n",
        "# Multiplication\n",
        "result_multiplication = 10 * 5\n",
        "print(\"Multiplication:\", result_multiplication)  # Output: 50\n",
        "\n",
        "# Division\n",
        "result_division = 10 / 5\n",
        "print(\"Division:\", result_division)  # Output: 2.0\n",
        "\n",
        "# Floor Division\n",
        "result_floor_division = 10 // 3\n",
        "print(\"Floor Division:\", result_floor_division)  # Output: 3\n",
        "\n",
        "# Modulus\n",
        "result_modulus = 10 % 3\n",
        "print(\"Modulus:\", result_modulus)  # Output: 1\n",
        "\n",
        "# Exponentiation\n",
        "result_exponentiation = 2 ** 3\n",
        "print(\"Exponentiation:\", result_exponentiation)  # Output: 8\n"
      ],
      "metadata": {
        "colab": {
          "base_uri": "https://localhost:8080/"
        },
        "id": "AORKGAAwAI_4",
        "outputId": "987902b6-d655-4d0b-f4b4-9a542466f0c2"
      },
      "execution_count": 19,
      "outputs": [
        {
          "output_type": "stream",
          "name": "stdout",
          "text": [
            "Addition: 15\n",
            "Subtraction: 5\n",
            "Multiplication: 50\n",
            "Division: 2.0\n",
            "Floor Division: 3\n",
            "Modulus: 1\n",
            "Exponentiation: 8\n"
          ]
        }
      ]
    },
    {
      "cell_type": "markdown",
      "source": [
        "Assignment Operators:"
      ],
      "metadata": {
        "id": "Mqb9YZg-DZHw"
      }
    },
    {
      "cell_type": "code",
      "source": [
        "x = 5\n",
        "x += 3  # Equivalent to: x = x + 3\n",
        "print(\"Assignment with Addition:\", x)  # Output: 8\n",
        "\n",
        "y = 10\n",
        "y -= 3  # Equivalent to: y = y - 3\n",
        "print(\"Assignment with Subtraction:\", y)  # Output: 7\n",
        "\n",
        "z = 6\n",
        "z *= 2  # Equivalent to: z = z * 2\n",
        "print(\"Assignment with Multiplication:\", z)  # Output: 12\n"
      ],
      "metadata": {
        "colab": {
          "base_uri": "https://localhost:8080/"
        },
        "id": "Usq7rOnwDi3B",
        "outputId": "28e8322e-5a11-46bb-8e6a-45a2c9b2d011"
      },
      "execution_count": 20,
      "outputs": [
        {
          "output_type": "stream",
          "name": "stdout",
          "text": [
            "Assignment with Addition: 8\n",
            "Assignment with Subtraction: 7\n",
            "Assignment with Multiplication: 12\n"
          ]
        }
      ]
    },
    {
      "cell_type": "markdown",
      "source": [
        "Comparison Operators:"
      ],
      "metadata": {
        "id": "LeiX_RebDlxA"
      }
    },
    {
      "cell_type": "code",
      "source": [
        "# Equal to\n",
        "print(5 == 5)  # Output: True\n",
        "\n",
        "# Not equal to\n",
        "print(5 != 10)  # Output: True\n",
        "\n",
        "# Greater than\n",
        "print(10 > 5)  # Output: True\n",
        "\n",
        "# Less than\n",
        "print(5 < 10)  # Output: True\n",
        "\n",
        "# Greater than or equal to\n",
        "print(10 >= 10)  # Output: True\n",
        "\n",
        "# Less than or equal to\n",
        "print(5 <= 10)  # Output: True\n"
      ],
      "metadata": {
        "colab": {
          "base_uri": "https://localhost:8080/"
        },
        "id": "PgXYeqYlDoIC",
        "outputId": "d39dac2e-36f9-45e9-e5fd-4fbb077a97d6"
      },
      "execution_count": 21,
      "outputs": [
        {
          "output_type": "stream",
          "name": "stdout",
          "text": [
            "True\n",
            "True\n",
            "True\n",
            "True\n",
            "True\n",
            "True\n"
          ]
        }
      ]
    },
    {
      "cell_type": "markdown",
      "source": [
        "Logical Operators:"
      ],
      "metadata": {
        "id": "UrsR8AUcDzBT"
      }
    },
    {
      "cell_type": "code",
      "source": [
        "# Logical AND\n",
        "print(True and True)  # Output: True\n",
        "\n",
        "# Logical OR\n",
        "print(True or False)  # Output: True\n",
        "\n",
        "# Logical NOT\n",
        "print(not True)  # Output: False\n"
      ],
      "metadata": {
        "colab": {
          "base_uri": "https://localhost:8080/"
        },
        "id": "a8RP1SEQD0g6",
        "outputId": "f62f71ae-3533-4751-f86b-9a5a8af75769"
      },
      "execution_count": 22,
      "outputs": [
        {
          "output_type": "stream",
          "name": "stdout",
          "text": [
            "True\n",
            "True\n",
            "False\n"
          ]
        }
      ]
    },
    {
      "cell_type": "markdown",
      "source": [
        "Identity Operators:"
      ],
      "metadata": {
        "id": "2mkVkgfeD5Cs"
      }
    },
    {
      "cell_type": "code",
      "source": [
        "x = [1, 2, 3]\n",
        "y = [1, 2, 3]\n",
        "\n",
        "# is\n",
        "print(x is y)  # Output: False\n",
        "\n",
        "# is not\n",
        "print(x is not y)  # Output: True\n"
      ],
      "metadata": {
        "colab": {
          "base_uri": "https://localhost:8080/"
        },
        "id": "wNTWIUMsD5dx",
        "outputId": "b7ca9b81-0923-4e7c-9bb1-2a6da64cae92"
      },
      "execution_count": 23,
      "outputs": [
        {
          "output_type": "stream",
          "name": "stdout",
          "text": [
            "False\n",
            "True\n"
          ]
        }
      ]
    },
    {
      "cell_type": "markdown",
      "source": [
        "Membership Operators:"
      ],
      "metadata": {
        "id": "vHupEmaoD62c"
      }
    },
    {
      "cell_type": "code",
      "source": [
        "# in\n",
        "list_example = [1, 2, 3, 4, 5]\n",
        "print(3 in list_example)  # Output: True\n",
        "\n",
        "# not in\n",
        "print(6 not in list_example)  # Output: True\n"
      ],
      "metadata": {
        "colab": {
          "base_uri": "https://localhost:8080/"
        },
        "id": "ggnid_kfD7Mk",
        "outputId": "855d336a-d920-418e-9a76-f7cd6721ff95"
      },
      "execution_count": 24,
      "outputs": [
        {
          "output_type": "stream",
          "name": "stdout",
          "text": [
            "True\n",
            "True\n"
          ]
        }
      ]
    },
    {
      "cell_type": "markdown",
      "source": [
        "Bitwise Operators:"
      ],
      "metadata": {
        "id": "WcLdq9-xEBR6"
      }
    },
    {
      "cell_type": "code",
      "source": [
        "# Bitwise AND\n",
        "print(5 & 3)  # Output: 1\n",
        "\n",
        "# Bitwise OR\n",
        "print(5 | 3)  # Output: 7\n",
        "\n",
        "# Bitwise XOR\n",
        "print(5 ^ 3)  # Output: 6\n",
        "\n",
        "# Bitwise NOT\n",
        "print(~5)  # Output: -6\n",
        "\n",
        "# Bitwise Left Shift\n",
        "print(5 << 1)  # Output: 10\n",
        "\n",
        "# Bitwise Right Shift\n",
        "print(5 >> 1)  # Output: 2\n"
      ],
      "metadata": {
        "colab": {
          "base_uri": "https://localhost:8080/"
        },
        "id": "OWI0nagkEDjZ",
        "outputId": "b478f1c9-011b-4f69-e892-42a57eecfea5"
      },
      "execution_count": 25,
      "outputs": [
        {
          "output_type": "stream",
          "name": "stdout",
          "text": [
            "1\n",
            "7\n",
            "6\n",
            "-6\n",
            "10\n",
            "2\n"
          ]
        }
      ]
    }
  ]
}
