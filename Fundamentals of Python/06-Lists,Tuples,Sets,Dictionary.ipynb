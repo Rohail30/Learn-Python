{
  "nbformat": 4,
  "nbformat_minor": 0,
  "metadata": {
    "colab": {
      "provenance": [],
      "toc_visible": true
    },
    "kernelspec": {
      "name": "python3",
      "display_name": "Python 3"
    },
    "language_info": {
      "name": "python"
    }
  },
  "cells": [
    {
      "cell_type": "markdown",
      "source": [
        "Lists"
      ],
      "metadata": {
        "id": "DM-U-IcBE5j5"
      }
    },
    {
      "cell_type": "code",
      "source": [
        "# Define a list\n",
        "fruits = ['apple', 'banana', 'cherry', 'date']\n",
        "\n",
        "# Access List Items\n",
        "print(\"First item:\", fruits[0])  # Output: apple\n",
        "print(\"Last item:\", fruits[-1])  # Output: date\n",
        "\n",
        "# Change List Items\n",
        "fruits[1] = 'orange'\n",
        "print(\"Modified List:\", fruits)  # Output: ['apple', 'orange', 'cherry', 'date']\n",
        "\n",
        "# Add List Items\n",
        "fruits.append('grape')\n",
        "print(\"After Appending:\", fruits)  # Output: ['apple', 'orange', 'cherry', 'date', 'grape']\n",
        "\n",
        "# Insert item at specific index\n",
        "fruits.insert(2, 'mango')\n",
        "print(\"After Inserting:\", fruits)  # Output: ['apple', 'orange', 'mango', 'cherry', 'date', 'grape']\n",
        "\n",
        "# Remove List Items\n",
        "fruits.remove('cherry')\n",
        "print(\"After Removing:\", fruits)  # Output: ['apple', 'orange', 'mango', 'date', 'grape']\n",
        "\n",
        "# Loop Lists\n",
        "print(\"Looping through the list:\")\n",
        "for fruit in fruits:\n",
        "    print(fruit)\n",
        "\n",
        "# List Comprehension\n",
        "squared_numbers = [x ** 2 for x in range(5)]\n",
        "print(\"Squared Numbers:\", squared_numbers)  # Output: [0, 1, 4, 9, 16]\n",
        "\n",
        "# Sort Lists\n",
        "fruits.sort()\n",
        "print(\"Sorted List:\", fruits)  # Output: ['apple', 'date', 'grape', 'mango', 'orange']\n",
        "\n",
        "# Copy Lists\n",
        "copied_fruits = fruits.copy()\n",
        "print(\"Copied List:\", copied_fruits)  # Output: ['apple', 'date', 'grape', 'mango', 'orange']\n",
        "\n",
        "# Join Lists\n",
        "numbers = [1, 2, 3]\n",
        "combined_list = fruits + numbers\n",
        "print(\"Combined List:\", combined_list)  # Output: ['apple', 'date', 'grape', 'mango', 'orange', 1, 2, 3]\n",
        "\n",
        "# List Methods\n",
        "# - append()\n",
        "# - insert()\n",
        "# - remove()\n",
        "# - pop()\n",
        "# - clear()\n",
        "# - index()\n",
        "# - count()\n",
        "# - reverse()\n",
        "\n"
      ],
      "metadata": {
        "colab": {
          "base_uri": "https://localhost:8080/"
        },
        "id": "_E4WTf52E4-9",
        "outputId": "d1d76595-777b-4d28-effb-76d911b9befe"
      },
      "execution_count": 26,
      "outputs": [
        {
          "output_type": "stream",
          "name": "stdout",
          "text": [
            "First item: apple\n",
            "Last item: date\n",
            "Modified List: ['apple', 'orange', 'cherry', 'date']\n",
            "After Appending: ['apple', 'orange', 'cherry', 'date', 'grape']\n",
            "After Inserting: ['apple', 'orange', 'mango', 'cherry', 'date', 'grape']\n",
            "After Removing: ['apple', 'orange', 'mango', 'date', 'grape']\n",
            "Looping through the list:\n",
            "apple\n",
            "orange\n",
            "mango\n",
            "date\n",
            "grape\n",
            "Squared Numbers: [0, 1, 4, 9, 16]\n",
            "Sorted List: ['apple', 'date', 'grape', 'mango', 'orange']\n",
            "Copied List: ['apple', 'date', 'grape', 'mango', 'orange']\n",
            "Combined List: ['apple', 'date', 'grape', 'mango', 'orange', 1, 2, 3]\n"
          ]
        }
      ]
    },
    {
      "cell_type": "markdown",
      "source": [
        "Tuple"
      ],
      "metadata": {
        "id": "J8VyGlSQFHi0"
      }
    },
    {
      "cell_type": "code",
      "source": [
        "# Define a tuple\n",
        "my_tuple = ('apple', 'banana', 'cherry', 'date')\n",
        "\n",
        "# Access Tuples\n",
        "print(\"First item:\", my_tuple[0])  # Output: apple\n",
        "print(\"Last item:\", my_tuple[-1])  # Output: date\n",
        "\n",
        "# Update Tuples (Tuples are immutable, so you can't directly update them)\n",
        "# However, you can convert a tuple to a list, update the list, and then convert it back to a tuple\n",
        "temp_list = list(my_tuple)\n",
        "temp_list[1] = 'orange'\n",
        "my_tuple = tuple(temp_list)\n",
        "print(\"Updated Tuple:\", my_tuple)  # Output: ('apple', 'orange', 'cherry', 'date')\n",
        "\n",
        "# Unpack Tuples\n",
        "fruit1, fruit2, fruit3, fruit4 = my_tuple\n",
        "print(\"Unpacked Tuples:\", fruit1, fruit2, fruit3, fruit4)  # Output: apple orange cherry date\n",
        "\n",
        "# Loop Tuples\n",
        "print(\"Looping through the tuple:\")\n",
        "for fruit in my_tuple:\n",
        "    print(fruit)\n",
        "\n",
        "# Join Tuples\n",
        "another_tuple = ('grape', 'kiwi', 'lemon')\n",
        "combined_tuple = my_tuple + another_tuple\n",
        "print(\"Combined Tuple:\", combined_tuple)  # Output: ('apple', 'orange', 'cherry', 'date', 'grape', 'kiwi', 'lemon')\n",
        "\n",
        "# Tuple Methods\n",
        "# - index()\n",
        "# - count()\n",
        "\n",
        "# Tuple Exercises\n",
        "# Example: Find the index of a specific item in the tuple\n",
        "index_of_cherry = my_tuple.index('cherry')\n",
        "print(\"Index of 'cherry':\", index_of_cherry)  # Output: 2\n",
        "\n",
        "# Example: Count the occurrences of an item in the tuple\n",
        "count_of_apple = my_tuple.count('apple')\n",
        "print(\"Count of 'apple':\", count_of_apple)  # Output: 1\n",
        "\n"
      ],
      "metadata": {
        "colab": {
          "base_uri": "https://localhost:8080/"
        },
        "id": "KqBLhPFxFO5t",
        "outputId": "8a088798-d3d9-4060-8097-e030fcd5023c"
      },
      "execution_count": 27,
      "outputs": [
        {
          "output_type": "stream",
          "name": "stdout",
          "text": [
            "First item: apple\n",
            "Last item: date\n",
            "Updated Tuple: ('apple', 'orange', 'cherry', 'date')\n",
            "Unpacked Tuples: apple orange cherry date\n",
            "Looping through the tuple:\n",
            "apple\n",
            "orange\n",
            "cherry\n",
            "date\n",
            "Combined Tuple: ('apple', 'orange', 'cherry', 'date', 'grape', 'kiwi', 'lemon')\n",
            "Index of 'cherry': 2\n",
            "Count of 'apple': 1\n"
          ]
        }
      ]
    },
    {
      "cell_type": "markdown",
      "source": [
        "Sets"
      ],
      "metadata": {
        "id": "EW1jswsxFepk"
      }
    },
    {
      "cell_type": "code",
      "source": [
        "# Define a set\n",
        "my_set = {'apple', 'banana', 'cherry'}\n",
        "\n",
        "# Access Set Items\n",
        "# Sets are unordered, so you cannot access items by index.\n",
        "# Instead, you can check for membership using the 'in' operator\n",
        "print(\"Is 'banana' in the set?\", 'banana' in my_set)  # Output: True\n",
        "\n",
        "# Add Set Items\n",
        "my_set.add('date')\n",
        "print(\"After Adding:\", my_set)  # Output: {'apple', 'banana', 'cherry', 'date'}\n",
        "\n",
        "# Remove Set Items\n",
        "my_set.remove('banana')\n",
        "print(\"After Removing:\", my_set)  # Output: {'apple', 'cherry', 'date'}\n",
        "\n",
        "# Loop Sets\n",
        "print(\"Looping through the set:\")\n",
        "for item in my_set:\n",
        "    print(item)\n",
        "\n",
        "# Join Sets\n",
        "another_set = {'grape', 'kiwi', 'date'}\n",
        "combined_set = my_set.union(another_set)\n",
        "print(\"Combined Set:\", combined_set)  # Output: {'apple', 'cherry', 'grape', 'kiwi', 'date'}\n",
        "\n",
        "# Set Methods\n",
        "# - add()\n",
        "# - remove()\n",
        "# - union()\n",
        "# - intersection()\n",
        "# - difference()\n",
        "# - symmetric_difference()\n",
        "\n"
      ],
      "metadata": {
        "colab": {
          "base_uri": "https://localhost:8080/"
        },
        "id": "nFeNhVZoFdTD",
        "outputId": "35db5f27-5fed-4577-ae14-374a1b05356b"
      },
      "execution_count": 28,
      "outputs": [
        {
          "output_type": "stream",
          "name": "stdout",
          "text": [
            "Is 'banana' in the set? True\n",
            "After Adding: {'cherry', 'date', 'apple', 'banana'}\n",
            "After Removing: {'cherry', 'date', 'apple'}\n",
            "Looping through the set:\n",
            "cherry\n",
            "date\n",
            "apple\n",
            "Combined Set: {'date', 'grape', 'cherry', 'apple', 'kiwi'}\n"
          ]
        }
      ]
    },
    {
      "cell_type": "markdown",
      "source": [
        "Dictionary"
      ],
      "metadata": {
        "id": "dNjKv0uoFjHQ"
      }
    },
    {
      "cell_type": "code",
      "source": [
        "# Define a dictionary\n",
        "my_dict = {'name': 'John', 'age': 30, 'city': 'New York'}\n",
        "\n",
        "# Access Items\n",
        "print(\"Name:\", my_dict['name'])  # Output: John\n",
        "print(\"Age:\", my_dict.get('age'))  # Output: 30\n",
        "\n",
        "# Change Items\n",
        "my_dict['age'] = 35\n",
        "print(\"Updated Age:\", my_dict['age'])  # Output: 35\n",
        "\n",
        "# Add Items\n",
        "my_dict['gender'] = 'Male'\n",
        "print(\"After Adding:\", my_dict)  # Output: {'name': 'John', 'age': 35, 'city': 'New York', 'gender': 'Male'}\n",
        "\n",
        "# Remove Items\n",
        "my_dict.pop('city')\n",
        "print(\"After Removing:\", my_dict)  # Output: {'name': 'John', 'age': 35, 'gender': 'Male'}\n",
        "\n",
        "# Loop Dictionaries\n",
        "print(\"Looping through the dictionary:\")\n",
        "for key, value in my_dict.items():\n",
        "    print(key, \":\", value)\n",
        "\n",
        "# Copy Dictionaries\n",
        "copied_dict = my_dict.copy()\n",
        "print(\"Copied Dictionary:\", copied_dict)  # Output: {'name': 'John', 'age': 35, 'gender': 'Male'}\n",
        "\n",
        "# Nested Dictionaries\n",
        "nested_dict = {\n",
        "    'person1': {'name': 'Alice', 'age': 25},\n",
        "    'person2': {'name': 'Bob', 'age': 30}\n",
        "}\n",
        "print(\"Nested Dictionary:\", nested_dict)  # Output: {'person1': {'name': 'Alice', 'age': 25}, 'person2': {'name': 'Bob', 'age': 30}}\n",
        "\n",
        "# Dictionary Methods\n",
        "# - get()\n",
        "# - pop()\n",
        "# - items()\n",
        "# - keys()\n",
        "# - values()\n",
        "# - update()\n",
        "# - clear()\n",
        "\n"
      ],
      "metadata": {
        "colab": {
          "base_uri": "https://localhost:8080/"
        },
        "id": "U4cOsP75Fjd3",
        "outputId": "706cf7ce-c1a2-426c-aeb0-db7bfb3ec6d7"
      },
      "execution_count": 29,
      "outputs": [
        {
          "output_type": "stream",
          "name": "stdout",
          "text": [
            "Name: John\n",
            "Age: 30\n",
            "Updated Age: 35\n",
            "After Adding: {'name': 'John', 'age': 35, 'city': 'New York', 'gender': 'Male'}\n",
            "After Removing: {'name': 'John', 'age': 35, 'gender': 'Male'}\n",
            "Looping through the dictionary:\n",
            "name : John\n",
            "age : 35\n",
            "gender : Male\n",
            "Copied Dictionary: {'name': 'John', 'age': 35, 'gender': 'Male'}\n",
            "Nested Dictionary: {'person1': {'name': 'Alice', 'age': 25}, 'person2': {'name': 'Bob', 'age': 30}}\n"
          ]
        }
      ]
    }
  ]
}