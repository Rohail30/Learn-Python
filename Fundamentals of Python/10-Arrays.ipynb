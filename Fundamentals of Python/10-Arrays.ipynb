{
  "nbformat": 4,
  "nbformat_minor": 0,
  "metadata": {
    "colab": {
      "provenance": [],
      "toc_visible": true
    },
    "kernelspec": {
      "name": "python3",
      "display_name": "Python 3"
    },
    "language_info": {
      "name": "python"
    }
  },
  "cells": [
    {
      "cell_type": "markdown",
      "source": [
        "**Note**: Python does not have built-in support for Arrays, but Python Lists can be used instead."
      ],
      "metadata": {
        "id": "48vZdMdIG6DU"
      }
    },
    {
      "cell_type": "markdown",
      "source": [
        "**Using Lists:**"
      ],
      "metadata": {
        "id": "QDu--nMLI5AN"
      }
    },
    {
      "cell_type": "code",
      "source": [
        "# Define a list\n",
        "my_list = [1, 2, 3, 4, 5]\n",
        "\n",
        "# Access elements\n",
        "print(my_list[0])  # Output: 1\n",
        "\n",
        "# Modify elements\n",
        "my_list[0] = 10\n",
        "print(my_list)  # Output: [10, 2, 3, 4, 5]\n",
        "\n",
        "# Append elements\n",
        "my_list.append(6)\n",
        "print(my_list)  # Output: [10, 2, 3, 4, 5, 6]\n",
        "\n",
        "# Remove elements\n",
        "my_list.remove(2)\n",
        "print(my_list)  # Output: [10, 3, 4, 5, 6]\n",
        "\n",
        "# Loop through elements\n",
        "for num in my_list:\n",
        "    print(num)\n",
      ],
      "metadata": {
        "colab": {
          "base_uri": "https://localhost:8080/"
        },
        "id": "sNn1lZccI0Yr",
        "outputId": "c84304ab-9621-4064-c4bf-3e62ffa2e2fb"
      },
      "execution_count": 37,
      "outputs": [
        {
          "output_type": "stream",
          "name": "stdout",
          "text": [
            "1\n",
            "[10, 2, 3, 4, 5]\n",
            "[10, 2, 3, 4, 5, 6]\n",
            "[10, 3, 4, 5, 6]\n",
            "10\n",
            "3\n",
            "4\n",
            "5\n",
            "6\n"
          ]
        }
      ]
    },
    {
      "cell_type": "markdown",
      "source": [
        "**Using Arrays (from the array module):**"
      ],
      "metadata": {
        "id": "3ejRUZqfI_gq"
      }
    },
    {
      "cell_type": "code",
      "source": [
        "import array\n",
        "\n",
        "# Define an array of integers\n",
        "my_array = array.array('i', [1, 2, 3, 4, 5])\n",
        "\n",
        "# Access elements (similar to lists)\n",
        "print(my_array[0])  # Output: 1\n",
        "\n",
        "# Modify elements\n",
        "my_array[0] = 10\n",
        "print(my_array)  # Output: array('i', [10, 2, 3, 4, 5])\n",
        "\n",
        "# Append elements (not supported, arrays have a fixed size)\n",
        "\n",
        "# Remove elements (not supported, arrays have a fixed size)\n",
        "\n",
        "# Loop through elements\n",
        "for num in my_array:\n",
        "    print(num)\n"
      ],
      "metadata": {
        "id": "cA-SM-33JAM2"
      },
      "execution_count": null,
      "outputs": []
    },
    {
      "cell_type": "markdown",
      "source": [
        "**Key Differences:**\n",
        "\n",
        "Flexibility: Lists can contain elements of different data types, while arrays can only contain elements of the same data type.\n",
        "Methods: Lists have various built-in methods for manipulation (e.g., append(), remove()), while arrays have a more limited set of operations.\n",
        "Size: Lists can dynamically grow or shrink in size, while arrays have a fixed size upon creation.\n",
        "In most cases, lists are preferred over arrays in Python due to their flexibility and richer set of operations. However, arrays can be more memory-efficient for storing large sequences of elements of the same data type."
      ],
      "metadata": {
        "id": "SyV_AA4sJE1O"
      }
    }
  ]
}
