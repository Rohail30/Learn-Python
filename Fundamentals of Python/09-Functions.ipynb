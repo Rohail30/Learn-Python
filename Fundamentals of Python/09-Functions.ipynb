{
  "nbformat": 4,
  "nbformat_minor": 0,
  "metadata": {
    "colab": {
      "provenance": [],
      "toc_visible": true
    },
    "kernelspec": {
      "name": "python3",
      "display_name": "Python 3"
    },
    "language_info": {
      "name": "python"
    }
  },
  "cells": [
    {
      "cell_type": "markdown",
      "source": [
        "**Functions:**"
      ],
      "metadata": {
        "id": "48vZdMdIG6DU"
      }
    },
    {
      "cell_type": "code",
      "source": [
        "# Function definition\n",
        "def greet(name):\n",
        "    return f\"Hello, {name}!\"\n",
        "\n",
        "# Function call\n",
        "message = greet(\"Alice\")\n",
        "print(message)  # Output: Hello, Alice!\n"
      ],
      "metadata": {
        "colab": {
          "base_uri": "https://localhost:8080/"
        },
        "id": "43v22qybH6io",
        "outputId": "682cabbd-233a-46af-b04e-4edb9c22e9a2"
      },
      "execution_count": 34,
      "outputs": [
        {
          "output_type": "stream",
          "name": "stdout",
          "text": [
            "Hello, Alice!\n"
          ]
        }
      ]
    },
    {
      "cell_type": "markdown",
      "source": [
        "**Lambda Expressions:**\n",
        "\n",
        "Lambda expressions (also known as anonymous functions) are a way to create small, unnamed functions in Python. They can take any number of arguments, but they can only have one expression."
      ],
      "metadata": {
        "id": "NB6JW8ivH-CS"
      }
    },
    {
      "cell_type": "code",
      "source": [
        "# Lambda expression to square a number\n",
        "square = lambda x: x ** 2\n",
        "\n",
        "# Using the lambda function\n",
        "result = square(5)\n",
        "print(result)  # Output: 25\n"
      ],
      "metadata": {
        "colab": {
          "base_uri": "https://localhost:8080/"
        },
        "id": "JOEHzK2hH9rj",
        "outputId": "0a756589-04eb-4eab-c989-673a67a0af8c"
      },
      "execution_count": 35,
      "outputs": [
        {
          "output_type": "stream",
          "name": "stdout",
          "text": [
            "25\n"
          ]
        }
      ]
    },
    {
      "cell_type": "markdown",
      "source": [
        "**Difference between Functions and Lambda Expressions:**\n",
        "\n",
        "The main difference between regular functions and lambda expressions is that lambda expressions are anonymous (i.e., they don't have a name) and are typically used for simple, one-line operations. Functions, on the other hand, are named and can be more complex, with multiple statements and functionalities."
      ],
      "metadata": {
        "id": "F4SxWO4QIGu2"
      }
    },
    {
      "cell_type": "markdown",
      "source": [
        "**Using Functions and Lambda Expressions:**"
      ],
      "metadata": {
        "id": "fNoD_Go0IMPB"
      }
    },
    {
      "cell_type": "code",
      "source": [
        "# Using lambda with map() function\n",
        "numbers = [1, 2, 3, 4, 5]\n",
        "squared_numbers = map(lambda x: x ** 2, numbers)\n",
        "print(list(squared_numbers))  # Output: [1, 4, 9, 16, 25]\n",
        "\n",
        "# Using lambda with filter() function\n",
        "even_numbers = filter(lambda x: x % 2 == 0, numbers)\n",
        "print(list(even_numbers))  # Output: [2, 4]\n",
        "\n",
        "# Using lambda with sorted() function\n",
        "words = ['apple', 'banana', 'cherry', 'date']\n",
        "sorted_words = sorted(words, key=lambda x: len(x))\n",
        "print(sorted_words)  # Output: ['date', 'apple', 'banana', 'cherry']\n"
      ],
      "metadata": {
        "colab": {
          "base_uri": "https://localhost:8080/"
        },
        "id": "itkVbx2YIL0o",
        "outputId": "a4cafd95-147a-48a7-b484-2b8b633fce95"
      },
      "execution_count": 36,
      "outputs": [
        {
          "output_type": "stream",
          "name": "stdout",
          "text": [
            "[1, 4, 9, 16, 25]\n",
            "[2, 4]\n",
            "['date', 'apple', 'banana', 'cherry']\n"
          ]
        }
      ]
    }
  ]
}