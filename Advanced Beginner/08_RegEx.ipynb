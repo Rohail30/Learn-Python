{
  "nbformat": 4,
  "nbformat_minor": 0,
  "metadata": {
    "colab": {
      "provenance": [],
      "toc_visible": true
    },
    "kernelspec": {
      "name": "python3",
      "display_name": "Python 3"
    },
    "language_info": {
      "name": "python"
    }
  },
  "cells": [
    {
      "cell_type": "markdown",
      "source": [
        "# Python RegEx\n",
        "\n",
        "In Python, regular expressions (regex or regexp) are a powerful tool for searching, manipulating, and validating strings based on specific patterns. The re module provides support for working with regular expressions in Python."
      ],
      "metadata": {
        "id": "YS2tdkABsfSO"
      }
    },
    {
      "cell_type": "code",
      "source": [
        "import re\n",
        "\n",
        "# Search for a pattern in a string\n",
        "pattern = r\"world\"\n",
        "text = \"hello world\"\n",
        "match = re.search(pattern, text)\n",
        "if match:\n",
        "    print(\"Pattern found:\", match.group())  # Output: world\n",
        "else:\n",
        "    print(\"Pattern not found\")\n",
        "\n",
        "# Find all occurrences of a pattern in a string\n",
        "matches = re.findall(pattern, text)\n",
        "print(\"All occurrences:\", matches)  # Output: ['world']\n"
      ],
      "metadata": {
        "colab": {
          "base_uri": "https://localhost:8080/"
        },
        "id": "TV5HBk4w3I_G",
        "outputId": "c7ac3812-0021-4eee-92a6-61e40d0f9126"
      },
      "execution_count": 24,
      "outputs": [
        {
          "output_type": "stream",
          "name": "stdout",
          "text": [
            "Pattern found: world\n",
            "All occurrences: ['world']\n"
          ]
        }
      ]
    },
    {
      "cell_type": "markdown",
      "source": [
        "**Special Characters:**\n",
        "\n",
        ".: Matches any single character except newline.\n",
        "\n",
        "^: Matches the start of the string.\n",
        "\n",
        "$: Matches the end of the string.\n",
        "\n",
        "*: Matches zero or more occurrences of the preceding element.\n",
        "\n",
        "+: Matches one or more occurrences of the preceding element.\n",
        "\n",
        "?: Matches zero or one occurrence of the preceding element.\n",
        "\n",
        "\\: Escapes special characters.\n",
        "\n",
        "[]: Specifies a character class.\n",
        "\n",
        "|: Specifies alternatives.\n",
        "\n",
        "() : Groups regular expressions."
      ],
      "metadata": {
        "id": "o_ztSg8j3K03"
      }
    },
    {
      "cell_type": "markdown",
      "source": [
        "**Example Patterns:**"
      ],
      "metadata": {
        "id": "IJfMAi4L3qkS"
      }
    },
    {
      "cell_type": "code",
      "source": [
        "# Match any digit\n",
        "pattern = r\"\\d\"\n",
        "\n",
        "# Match any whitespace character\n",
        "pattern = r\"\\s\"\n",
        "\n",
        "# Match any word character\n",
        "pattern = r\"\\w\"\n",
        "\n",
        "# Match a specific number of occurrences\n",
        "pattern = r\"a{2,4}\"\n"
      ],
      "metadata": {
        "id": "Ktven6-v3emh"
      },
      "execution_count": 25,
      "outputs": []
    },
    {
      "cell_type": "markdown",
      "source": [
        "**Modifiers:**\n",
        "\n",
        "re.IGNORECASE or re.I: Case-insensitive matching.\n",
        "\n",
        "re.MULTILINE or re.M: Allows ^ and $ to match the start and end of each line."
      ],
      "metadata": {
        "id": "fxDZUdQ73s6S"
      }
    },
    {
      "cell_type": "markdown",
      "source": [
        "**More Functions:**\n",
        "\n",
        "re.match(): Checks for a match only at the beginning of the string.\n",
        "\n",
        "re.fullmatch(): Checks for a match of the entire string.\n",
        "\n",
        "re.sub(): Replaces occurrences of a pattern in a string.\n",
        "\n",
        "re.split(): Splits a string into a list based on a pattern."
      ],
      "metadata": {
        "id": "nNZCBGIy3wuF"
      }
    },
    {
      "cell_type": "code",
      "source": [
        "# Replace all digits with 'X'\n",
        "text = \"hello 123 world 456\"\n",
        "pattern = r\"\\d\"\n",
        "new_text = re.sub(pattern, \"X\", text)\n",
        "print(\"New text:\", new_text)  # Output: hello XXX world XXX\n",
        "\n",
        "# Split a string into words\n",
        "text = \"apple,orange,banana\"\n",
        "pattern = r\",\"\n",
        "words = re.split(pattern, text)\n",
        "print(\"Words:\", words)  # Output: ['apple', 'orange', 'banana']\n"
      ],
      "metadata": {
        "colab": {
          "base_uri": "https://localhost:8080/"
        },
        "id": "g9iizvuJ33I_",
        "outputId": "1311d1d4-0938-4bf5-b238-5e971b2c5c81"
      },
      "execution_count": 26,
      "outputs": [
        {
          "output_type": "stream",
          "name": "stdout",
          "text": [
            "New text: hello XXX world XXX\n",
            "Words: ['apple', 'orange', 'banana']\n"
          ]
        }
      ]
    },
    {
      "cell_type": "markdown",
      "source": [
        "Regular expressions are a powerful tool for string manipulation and pattern matching in Python. However, they can be complex and difficult to read, so it's important to use them judiciously and with caution."
      ],
      "metadata": {
        "id": "MQuPw8uW33wq"
      }
    }
  ]
}