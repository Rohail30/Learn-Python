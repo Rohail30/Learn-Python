{
  "nbformat": 4,
  "nbformat_minor": 0,
  "metadata": {
    "colab": {
      "provenance": [],
      "toc_visible": true
    },
    "kernelspec": {
      "name": "python3",
      "display_name": "Python 3"
    },
    "language_info": {
      "name": "python"
    }
  },
  "cells": [
    {
      "cell_type": "markdown",
      "source": [
        "# File Handling\n",
        "The key function for working with files in Python is the open() function.\n",
        "\n",
        "The open() function takes two parameters; filename, and mode.\n",
        "\n",
        "There are four different methods (modes) for opening a file:\n",
        "\n",
        "\"r\" - Read - Default value. Opens a file for reading, error if the file does not exist\n",
        "\n",
        "\"a\" - Append - Opens a file for appending, creates the file if it does not exist\n",
        "\n",
        "\"w\" - Write - Opens a file for writing, creates the file if it does not exist\n",
        "\n",
        "\"x\" - Create - Creates the specified file, returns an error if the file exists\n",
        "\n",
        "In addition you can specify if the file should be handled as binary or text mode\n",
        "\n",
        "\"t\" - Text - Default value. Text mode\n",
        "\n",
        "\"b\" - Binary - Binary mode (e.g. images)"
      ],
      "metadata": {
        "id": "LfOtOMm4edCD"
      }
    },
    {
      "cell_type": "code",
      "source": [
        "f = open(\"example.txt\", \"x\")\n"
      ],
      "metadata": {
        "id": "9tXcKIesguN-"
      },
      "execution_count": 17,
      "outputs": []
    },
    {
      "cell_type": "code",
      "source": [
        "f = open(\"demofile.txt\", \"x\")"
      ],
      "metadata": {
        "id": "4bAMPXTvg96e"
      },
      "execution_count": 12,
      "outputs": []
    },
    {
      "cell_type": "markdown",
      "source": [
        "## Opening and Reading Files"
      ],
      "metadata": {
        "id": "XPzWynLUexRx"
      }
    },
    {
      "cell_type": "code",
      "source": [
        "# Open file in read mode\n",
        "file = open(\"example.txt\", \"r\")\n",
        "\n",
        "# Read the entire content of the file\n",
        "content = file.read()\n",
        "print(content)\n",
        "\n",
        "# Close the file\n",
        "file.close()\n"
      ],
      "metadata": {
        "colab": {
          "base_uri": "https://localhost:8080/"
        },
        "id": "TSBv8VGYfTiH",
        "outputId": "aa08570f-d223-4a1b-ca6e-e97bb193f540"
      },
      "execution_count": 6,
      "outputs": [
        {
          "output_type": "stream",
          "name": "stdout",
          "text": [
            "\n"
          ]
        }
      ]
    },
    {
      "cell_type": "markdown",
      "source": [
        "## Writing to Files"
      ],
      "metadata": {
        "id": "0EWhbDVDfUDF"
      }
    },
    {
      "cell_type": "code",
      "source": [
        "# Open file in write mode\n",
        "file = open(\"example.txt\", \"w\")\n",
        "\n",
        "# Write content to the file\n",
        "file.write(\"Hello, world!\\n\")\n",
        "file.write(\"This is a new line.\")\n",
        "\n",
        "# Close the file\n",
        "file.close()\n"
      ],
      "metadata": {
        "id": "9X5b2818fZ-s"
      },
      "execution_count": 7,
      "outputs": []
    },
    {
      "cell_type": "markdown",
      "source": [
        "## Appending to Files"
      ],
      "metadata": {
        "id": "owastEgqffaN"
      }
    },
    {
      "cell_type": "code",
      "source": [
        "# Open file in append mode\n",
        "file = open(\"example.txt\", \"a\")\n",
        "\n",
        "# Append content to the file\n",
        "file.write(\"\\nAppending new content.\")\n",
        "\n",
        "# Close the file\n",
        "file.close()\n"
      ],
      "metadata": {
        "id": "xYOVPSoYffGI"
      },
      "execution_count": 8,
      "outputs": []
    },
    {
      "cell_type": "markdown",
      "source": [
        "## Using with Statement for Automatic File Closing"
      ],
      "metadata": {
        "id": "SVDZdZ6AfnwJ"
      }
    },
    {
      "cell_type": "code",
      "source": [
        "# Open file using with statement\n",
        "with open(\"example.txt\", \"r\") as file:\n",
        "    content = file.read()\n",
        "    print(content)\n"
      ],
      "metadata": {
        "colab": {
          "base_uri": "https://localhost:8080/"
        },
        "id": "UQ123r-Vfork",
        "outputId": "0bcd72a1-81bf-418e-f689-c51b9b10066f"
      },
      "execution_count": 9,
      "outputs": [
        {
          "output_type": "stream",
          "name": "stdout",
          "text": [
            "Hello, world!\n",
            "This is a new line.\n",
            "Appending new content.\n"
          ]
        }
      ]
    },
    {
      "cell_type": "markdown",
      "source": [
        "## Reading Lines from Files"
      ],
      "metadata": {
        "id": "cIz8IEMgfqOP"
      }
    },
    {
      "cell_type": "code",
      "source": [
        "# Open file in read mode\n",
        "f = open(\"demofile.txt\", \"r\")\n",
        "\n",
        "# Read the first line of the file\n",
        "print(f.readline())\n",
        "\n",
        "# Close the file\n",
        "f.close()\n"
      ],
      "metadata": {
        "colab": {
          "base_uri": "https://localhost:8080/"
        },
        "id": "vJPswfbmggd3",
        "outputId": "2a700fd0-586f-45f7-d87d-3fe6c9fc1b51"
      },
      "execution_count": 14,
      "outputs": [
        {
          "output_type": "stream",
          "name": "stdout",
          "text": [
            "\n"
          ]
        }
      ]
    },
    {
      "cell_type": "code",
      "source": [
        "# Open file in read mode\n",
        "with open(\"example.txt\", \"r\") as file:\n",
        "    # Read lines one by one\n",
        "    for line in file:\n",
        "        print(line.strip())  # Strip removes leading and trailing whitespace\n"
      ],
      "metadata": {
        "colab": {
          "base_uri": "https://localhost:8080/"
        },
        "id": "gCvcegRofs-3",
        "outputId": "82f0dd02-ade5-4f81-9280-05af3049283b"
      },
      "execution_count": 15,
      "outputs": [
        {
          "output_type": "stream",
          "name": "stdout",
          "text": [
            "Hello, world!\n",
            "This is a new line.\n",
            "Appending new content.\n"
          ]
        }
      ]
    },
    {
      "cell_type": "markdown",
      "source": [
        "## Deleting Files"
      ],
      "metadata": {
        "id": "gD61exIihaH2"
      }
    },
    {
      "cell_type": "code",
      "source": [
        "import os\n",
        "\n",
        "# Specify the file path\n",
        "file_path = \"example.txt\"\n",
        "\n",
        "# Check if the file exists before attempting to delete it\n",
        "if os.path.exists(file_path):\n",
        "    # Delete the file\n",
        "    os.remove(file_path)\n",
        "    print(\"File deleted successfully:\", file_path)\n",
        "else:\n",
        "    print(\"File does not exist:\", file_path)\n"
      ],
      "metadata": {
        "colab": {
          "base_uri": "https://localhost:8080/"
        },
        "id": "JaZodOhWhbry",
        "outputId": "a070e99d-e2b0-4e43-a5ea-e7adf5aed719"
      },
      "execution_count": 16,
      "outputs": [
        {
          "output_type": "stream",
          "name": "stdout",
          "text": [
            "File deleted successfully: example.txt\n"
          ]
        }
      ]
    },
    {
      "cell_type": "markdown",
      "source": [
        "## Delete Folder"
      ],
      "metadata": {
        "id": "t3PbBijJhkWK"
      }
    },
    {
      "cell_type": "code",
      "source": [
        "import os\n",
        "os.rmdir(\"myfolder\")"
      ],
      "metadata": {
        "id": "1KlOMDrzhmuM"
      },
      "execution_count": null,
      "outputs": []
    }
  ]
}