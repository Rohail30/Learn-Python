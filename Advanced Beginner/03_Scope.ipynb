{
  "nbformat": 4,
  "nbformat_minor": 0,
  "metadata": {
    "colab": {
      "provenance": [],
      "toc_visible": true
    },
    "kernelspec": {
      "name": "python3",
      "display_name": "Python 3"
    },
    "language_info": {
      "name": "python"
    }
  },
  "cells": [
    {
      "cell_type": "markdown",
      "source": [
        "# Scope\n"
      ],
      "metadata": {
        "id": "NcPXa5CUoZNB"
      }
    },
    {
      "cell_type": "markdown",
      "source": [
        "### Global Scope:\n",
        "\n",
        "Variables defined at the top level of a Python script or module are considered to be in the global scope. They can be accessed from anywhere within the script or module."
      ],
      "metadata": {
        "id": "f1Pb7ZU9pp6Y"
      }
    },
    {
      "cell_type": "code",
      "source": [
        "x = 10  # Global variable\n",
        "\n",
        "def func():\n",
        "    print(x)  # Accessing global variable\n",
        "\n",
        "func()  # Output: 10\n"
      ],
      "metadata": {
        "colab": {
          "base_uri": "https://localhost:8080/"
        },
        "id": "rKQw8L_opmJs",
        "outputId": "f81eee80-fab6-4a33-9779-37837e037b95"
      },
      "execution_count": 12,
      "outputs": [
        {
          "output_type": "stream",
          "name": "stdout",
          "text": [
            "10\n"
          ]
        }
      ]
    },
    {
      "cell_type": "markdown",
      "source": [
        "### Local Scope:\n",
        "\n",
        "Variables defined within a function are considered to be in the local scope. They can only be accessed within the function in which they are defined."
      ],
      "metadata": {
        "id": "Y-9xxEPBpttY"
      }
    },
    {
      "cell_type": "code",
      "source": [
        "def func():\n",
        "    y = 20  # Local variable\n",
        "    print(y)\n",
        "\n",
        "func()  # Output: 20\n"
      ],
      "metadata": {
        "colab": {
          "base_uri": "https://localhost:8080/"
        },
        "id": "JPGoxruapxmT",
        "outputId": "071e12b5-5562-4ec4-9f91-629eeb493672"
      },
      "execution_count": 11,
      "outputs": [
        {
          "output_type": "stream",
          "name": "stdout",
          "text": [
            "20\n"
          ]
        }
      ]
    },
    {
      "cell_type": "markdown",
      "source": [
        "### Enclosing Scope (or Nonlocal Scope):\n",
        "\n",
        "In Python, nested functions have access to variables defined in the outer (enclosing) function. These variables are neither in the global scope nor in the local scope of the nested function, but in an enclosing scope."
      ],
      "metadata": {
        "id": "IeDaVvbPpxMv"
      }
    },
    {
      "cell_type": "code",
      "source": [
        "def outer():\n",
        "    z = 30  # Enclosing variable\n",
        "\n",
        "    def inner():\n",
        "        print(z)  # Accessing enclosing variable\n",
        "\n",
        "    inner()\n",
        "\n",
        "outer()  # Output: 30\n"
      ],
      "metadata": {
        "colab": {
          "base_uri": "https://localhost:8080/"
        },
        "id": "mbIfe2c-p4eG",
        "outputId": "e0d7fd22-218f-44e5-d885-a2e0bf77533b"
      },
      "execution_count": 10,
      "outputs": [
        {
          "output_type": "stream",
          "name": "stdout",
          "text": [
            "30\n"
          ]
        }
      ]
    },
    {
      "cell_type": "markdown",
      "source": [
        "### Built-in Scope:\n",
        "\n",
        "Python comes with a set of built-in functions and types that are always available. These are in the built-in scope."
      ],
      "metadata": {
        "id": "EhK574jFp8KM"
      }
    },
    {
      "cell_type": "code",
      "source": [
        "print(abs(-5))  # Output: 5\n"
      ],
      "metadata": {
        "colab": {
          "base_uri": "https://localhost:8080/"
        },
        "id": "QZM2QJdyp_GW",
        "outputId": "c3842970-a490-4670-a80d-79745259af3a"
      },
      "execution_count": 13,
      "outputs": [
        {
          "output_type": "stream",
          "name": "stdout",
          "text": [
            "5\n"
          ]
        }
      ]
    },
    {
      "cell_type": "markdown",
      "source": [
        "Variables in inner scopes can shadow (hide) variables in outer scopes with the same name. However, you can use the global and nonlocal keywords to explicitly declare that you want to modify a variable from an outer scope."
      ],
      "metadata": {
        "id": "C4gFQ21RqQr8"
      }
    }
  ]
}