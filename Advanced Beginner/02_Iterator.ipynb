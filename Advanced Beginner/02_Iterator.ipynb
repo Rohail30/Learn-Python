{
  "nbformat": 4,
  "nbformat_minor": 0,
  "metadata": {
    "colab": {
      "provenance": [],
      "toc_visible": true
    },
    "kernelspec": {
      "name": "python3",
      "display_name": "Python 3"
    },
    "language_info": {
      "name": "python"
    }
  },
  "cells": [
    {
      "cell_type": "markdown",
      "source": [
        "**Python Iterators**\n",
        "\n",
        "\n",
        "In Python, an iterator is an object that represents a stream of data. It implements two methods: __iter__() and __next__(). Iterators are used to loop over iterable objects like lists, tuples, dictionaries, and sets.\n",
        "\n",
        "**Iterator Protocol:**\n",
        "\n",
        "__iter__(): This method returns the iterator object itself. It is called when you use the iter() function on an iterable object. If the object is already an iterator, it returns itself.\n",
        "\n",
        "__next__(): This method returns the next item in the stream of data. It is called repeatedly to get the next item. When there are no more items, it raises the StopIteration exception."
      ],
      "metadata": {
        "id": "NcPXa5CUoZNB"
      }
    },
    {
      "cell_type": "code",
      "source": [
        "# Define a custom iterator class\n",
        "class MyIterator:\n",
        "    def __init__(self, data):\n",
        "        self.data = data\n",
        "        self.index = 0\n",
        "\n",
        "    def __iter__(self):\n",
        "        return self\n",
        "\n",
        "    def __next__(self):\n",
        "        if self.index < len(self.data):\n",
        "            value = self.data[self.index]\n",
        "            self.index += 1\n",
        "            return value\n",
        "        else:\n",
        "            raise StopIteration\n",
        "\n",
        "# Create an iterable object\n",
        "my_list = [1, 2, 3, 4, 5]\n",
        "\n",
        "# Create an iterator from the iterable object\n",
        "my_iterator = iter(my_list)\n",
        "\n",
        "# Loop through the iterator using next() function\n",
        "print(next(my_iterator))  # Output: 1\n",
        "print(next(my_iterator))  # Output: 2\n",
        "\n",
        "# Alternatively, loop through the iterator using a for loop\n",
        "for item in my_iterator:\n",
        "    print(item)\n"
      ],
      "metadata": {
        "colab": {
          "base_uri": "https://localhost:8080/"
        },
        "id": "skgB9uSXos1r",
        "outputId": "f78d19df-f74a-43a1-d1a6-5103d800fa5e"
      },
      "execution_count": 9,
      "outputs": [
        {
          "output_type": "stream",
          "name": "stdout",
          "text": [
            "1\n",
            "2\n",
            "3\n",
            "4\n",
            "5\n"
          ]
        }
      ]
    }
  ]
}