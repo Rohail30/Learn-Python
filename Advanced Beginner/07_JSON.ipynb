{
  "nbformat": 4,
  "nbformat_minor": 0,
  "metadata": {
    "colab": {
      "provenance": [],
      "toc_visible": true
    },
    "kernelspec": {
      "name": "python3",
      "display_name": "Python 3"
    },
    "language_info": {
      "name": "python"
    }
  },
  "cells": [
    {
      "cell_type": "markdown",
      "source": [
        "# JSON\n",
        "\n",
        "In Python, the json module provides functions for encoding Python objects into JSON strings (serialization) and decoding JSON strings into Python objects (deserialization). JSON (JavaScript Object Notation) is a lightweight data interchange format that is widely used for transmitting data between a server and a client in web applications."
      ],
      "metadata": {
        "id": "YS2tdkABsfSO"
      }
    },
    {
      "cell_type": "markdown",
      "source": [
        "**Encoding (Serialization):**\n",
        "\n",
        "To encode a Python object into a JSON string, you can use the json.dumps() function."
      ],
      "metadata": {
        "id": "WghV2ZB22Id5"
      }
    },
    {
      "cell_type": "code",
      "source": [
        "import json\n",
        "\n",
        "# Python dictionary to JSON string\n",
        "person = {\"name\": \"Alice\", \"age\": 30, \"city\": \"New York\"}\n",
        "json_string = json.dumps(person)\n",
        "print(json_string)\n"
      ],
      "metadata": {
        "colab": {
          "base_uri": "https://localhost:8080/"
        },
        "id": "sC8vcw2J2Cod",
        "outputId": "e104dce6-4bea-4e82-f64e-676a77185ee9"
      },
      "execution_count": 21,
      "outputs": [
        {
          "output_type": "stream",
          "name": "stdout",
          "text": [
            "{\"name\": \"Alice\", \"age\": 30, \"city\": \"New York\"}\n"
          ]
        }
      ]
    },
    {
      "cell_type": "markdown",
      "source": [
        "**Decoding (Deserialization):**\n",
        "\n",
        "To decode a JSON string into a Python object, you can use the json.loads() function."
      ],
      "metadata": {
        "id": "sGZm-D4o2UQh"
      }
    },
    {
      "cell_type": "code",
      "source": [
        "# JSON string to Python dictionary\n",
        "json_string = '{\"name\": \"Bob\", \"age\": 25, \"city\": \"Los Angeles\"}'\n",
        "person = json.loads(json_string)\n",
        "print(person)\n"
      ],
      "metadata": {
        "colab": {
          "base_uri": "https://localhost:8080/"
        },
        "id": "Dsxb3P5g2VrT",
        "outputId": "aef1e25e-fe6e-4319-d7a0-b7a643b88acd"
      },
      "execution_count": 22,
      "outputs": [
        {
          "output_type": "stream",
          "name": "stdout",
          "text": [
            "{'name': 'Bob', 'age': 25, 'city': 'Los Angeles'}\n"
          ]
        }
      ]
    },
    {
      "cell_type": "markdown",
      "source": [
        "**Working with Files:**\n",
        "\n",
        "You can also work with JSON files using the json.dump() and json.load() functions."
      ],
      "metadata": {
        "id": "43yX5w1f2cOi"
      }
    },
    {
      "cell_type": "code",
      "source": [
        "# Writing Python object to a JSON file\n",
        "with open(\"person.json\", \"w\") as json_file:\n",
        "    json.dump(person, json_file)\n",
        "\n",
        "# Reading JSON data from a file into a Python object\n",
        "with open(\"person.json\", \"r\") as json_file:\n",
        "    loaded_person = json.load(json_file)\n",
        "\n",
        "print(loaded_person)  # Output: {'name': 'Bob', 'age': 25, 'city': 'Los Angeles'}\n"
      ],
      "metadata": {
        "colab": {
          "base_uri": "https://localhost:8080/"
        },
        "id": "M86-3NTV2eId",
        "outputId": "1720cadc-50a1-4dbf-93d1-3507976d321a"
      },
      "execution_count": 23,
      "outputs": [
        {
          "output_type": "stream",
          "name": "stdout",
          "text": [
            "{'name': 'Bob', 'age': 25, 'city': 'Los Angeles'}\n"
          ]
        }
      ]
    },
    {
      "cell_type": "markdown",
      "source": [
        "**Handling Custom Objects:**\n",
        "\n",
        "You can serialize and deserialize custom Python objects by defining custom encoding and decoding functions or by implementing the json.JSONEncoder and json.JSONDecoder classes.\n",
        "\n",
        "**Note:**\n",
        "\n",
        "The json.dumps() function converts Python objects to JSON strings, while json.loads() converts JSON strings to Python objects.\n",
        "The json.dump() function writes Python objects to a JSON file, while json.load() reads JSON data from a file into Python objects.\n",
        "JSON supports primitive data types (strings, numbers, booleans, null) and nested structures (objects and arrays/lists). However, it does not support more complex data types like Python sets or tuples.\n",
        "For more complex serialization and deserialization tasks, you may need to use third-party libraries like jsonpickle or marshmallow."
      ],
      "metadata": {
        "id": "yUCq2xip2lCN"
      }
    }
  ]
}