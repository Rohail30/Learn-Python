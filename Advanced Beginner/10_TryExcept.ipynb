{
  "nbformat": 4,
  "nbformat_minor": 0,
  "metadata": {
    "colab": {
      "provenance": [],
      "toc_visible": true
    },
    "kernelspec": {
      "name": "python3",
      "display_name": "Python 3"
    },
    "language_info": {
      "name": "python"
    }
  },
  "cells": [
    {
      "cell_type": "markdown",
      "source": [
        "# Try Except\n",
        "\n",
        "\n",
        "In Python, the try...except statement is used for exception handling. It allows you to catch and handle exceptions that occur during the execution of a block of code."
      ],
      "metadata": {
        "id": "YS2tdkABsfSO"
      }
    },
    {
      "cell_type": "markdown",
      "source": [
        "**Basic Syntax:**\n",
        "\n",
        "\n",
        "\n",
        "```\n",
        "try:\n",
        "    # Block of code where exceptions may occur\n",
        "    # Code that might raise an exception\n",
        "except ExceptionType:\n",
        "    # Code to handle the exception\n",
        "    # Code executed when an exception of type ExceptionType occurs\n",
        "\n",
        "```\n",
        "\n"
      ],
      "metadata": {
        "id": "IfsRXQ0U4_RD"
      }
    },
    {
      "cell_type": "code",
      "source": [
        "try:\n",
        "    # Code that might raise an exception\n",
        "    x = 10 / 0\n",
        "except ZeroDivisionError:\n",
        "    # Code to handle the exception\n",
        "    print(\"Error: Division by zero occurred\")\n"
      ],
      "metadata": {
        "colab": {
          "base_uri": "https://localhost:8080/"
        },
        "id": "Z6VSb77O5KtK",
        "outputId": "29ac35eb-39ec-4d10-f1e0-ac9c6903e868"
      },
      "execution_count": 27,
      "outputs": [
        {
          "output_type": "stream",
          "name": "stdout",
          "text": [
            "Error: Division by zero occurred\n"
          ]
        }
      ]
    },
    {
      "cell_type": "markdown",
      "source": [
        "**Handling Multiple Exceptions:**\n",
        "\n",
        "You can handle multiple exceptions by adding multiple except blocks or by using a tuple of exception types."
      ],
      "metadata": {
        "id": "wnFNWptX5IQb"
      }
    },
    {
      "cell_type": "code",
      "source": [
        "try:\n",
        "    # Code that might raise an exception\n",
        "    x = int(input(\"Enter a number: \"))\n",
        "    result = 10 / x\n",
        "except ZeroDivisionError:\n",
        "    # Code to handle division by zero exception\n",
        "    print(\"Error: Division by zero occurred\")\n",
        "except ValueError:\n",
        "    # Code to handle invalid input exception\n",
        "    print(\"Error: Invalid input. Please enter a valid number\")\n"
      ],
      "metadata": {
        "colab": {
          "base_uri": "https://localhost:8080/"
        },
        "id": "7gL6TJFo5Qnu",
        "outputId": "38a3b85d-01f2-4af4-d06b-4ae085cbdca3"
      },
      "execution_count": 30,
      "outputs": [
        {
          "output_type": "stream",
          "name": "stdout",
          "text": [
            "Enter a number: 0\n",
            "Error: Division by zero occurred\n"
          ]
        }
      ]
    },
    {
      "cell_type": "markdown",
      "source": [
        "**The finally Block:**\n",
        "\n",
        "You can use a finally block to execute cleanup code that should run regardless of whether an exception occurred or not."
      ],
      "metadata": {
        "id": "pdY26zwz5fKo"
      }
    },
    {
      "cell_type": "code",
      "source": [
        "try:\n",
        "    # Code that might raise an exception\n",
        "    x = 10 / 0\n",
        "except ZeroDivisionError:\n",
        "    # Code to handle division by zero exception\n",
        "    print(\"Error: Division by zero occurred\")\n",
        "finally:\n",
        "    # Code to execute regardless of whether an exception occurred\n",
        "    print(\"Cleanup code executed\")\n"
      ],
      "metadata": {
        "colab": {
          "base_uri": "https://localhost:8080/"
        },
        "id": "ovUFuzXB5jej",
        "outputId": "79d6031f-3032-4346-ae82-59969bd24863"
      },
      "execution_count": 31,
      "outputs": [
        {
          "output_type": "stream",
          "name": "stdout",
          "text": [
            "Error: Division by zero occurred\n",
            "Cleanup code executed\n"
          ]
        }
      ]
    }
  ]
}