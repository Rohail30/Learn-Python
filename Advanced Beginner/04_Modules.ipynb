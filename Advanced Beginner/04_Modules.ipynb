{
  "nbformat": 4,
  "nbformat_minor": 0,
  "metadata": {
    "colab": {
      "provenance": [],
      "toc_visible": true
    },
    "kernelspec": {
      "name": "python3",
      "display_name": "Python 3"
    },
    "language_info": {
      "name": "python"
    }
  },
  "cells": [
    {
      "cell_type": "markdown",
      "source": [
        "# Module\n"
      ],
      "metadata": {
        "id": "NcPXa5CUoZNB"
      }
    },
    {
      "cell_type": "markdown",
      "source": [
        "\n",
        "In Python, a module is a file containing Python code. It can define functions, classes, and variables, and it can also include runnable code. Modules allow you to organize your code into logical units, making it easier to manage and reuse."
      ],
      "metadata": {
        "id": "Xlv2D5hOq_gT"
      }
    },
    {
      "cell_type": "markdown",
      "source": [
        "**Creating a Module:**\n",
        "\n",
        "To create a module, you simply write Python code in a file with a .py extension. The file name becomes the name of the module (without the .py extension). For example, if you have a file named my_module.py, you can import it as a module named my_module."
      ],
      "metadata": {
        "id": "K_b4elE2rAkB"
      }
    },
    {
      "cell_type": "code",
      "source": [
        "# my_module.py\n",
        "\n",
        "def greet(name):\n",
        "    return f\"Hello, {name}!\"\n",
        "\n",
        "def add(x, y):\n",
        "    return x + y\n",
        "\n",
        "# Runnable code\n",
        "if __name__ == \"__main__\":\n",
        "    print(greet(\"Alice\"))\n",
        "    print(add(5, 3))\n"
      ],
      "metadata": {
        "colab": {
          "base_uri": "https://localhost:8080/"
        },
        "id": "2z7H48harE1m",
        "outputId": "ea65632f-71d2-4474-fe55-8d04d6ff4e85"
      },
      "execution_count": 14,
      "outputs": [
        {
          "output_type": "stream",
          "name": "stdout",
          "text": [
            "Hello, Alice!\n",
            "8\n"
          ]
        }
      ]
    },
    {
      "cell_type": "markdown",
      "source": [
        "**Using a Module:**\n",
        "\n",
        "To use functions, classes, or variables defined in a module, you need to import the module into your Python script or interactive session."
      ],
      "metadata": {
        "id": "UmN0tt0ErIJX"
      }
    },
    {
      "cell_type": "code",
      "source": [
        "import my_module\n",
        "\n",
        "print(my_module.greet(\"Bob\"))  # Output: Hello, Bob!\n",
        "print(my_module.add(10, 20))    # Output: 30\n"
      ],
      "metadata": {
        "id": "MXprfvzdrR4M"
      },
      "execution_count": null,
      "outputs": []
    },
    {
      "cell_type": "markdown",
      "source": [
        "**Module Search Path:**\n",
        "\n",
        "When you import a module, Python searches for it in the directories listed in the sys.path variable. By default, this includes the current directory and the directories specified in the PYTHONPATH environment variable.\n",
        "\n",
        "**Standard Library Modules:**\n",
        "\n",
        "Python comes with a standard library that includes many modules for common tasks such as file I/O, networking, and data processing. You can import and use these modules in your code without installing any additional packages."
      ],
      "metadata": {
        "id": "J_GASqrKrNyp"
      }
    },
    {
      "cell_type": "code",
      "source": [
        "import os\n",
        "\n",
        "print(os.getcwd())  # Output: Current working directory\n"
      ],
      "metadata": {
        "colab": {
          "base_uri": "https://localhost:8080/"
        },
        "id": "PGvckhJprahY",
        "outputId": "c6f41e68-82dd-46eb-88f7-4370011141c0"
      },
      "execution_count": 16,
      "outputs": [
        {
          "output_type": "stream",
          "name": "stdout",
          "text": [
            "/content\n"
          ]
        }
      ]
    },
    {
      "cell_type": "markdown",
      "source": [
        "**Third-Party Modules:**\n",
        "\n",
        "In addition to the standard library, Python has a vast ecosystem of third-party modules and packages available for various purposes. You can install these packages using tools like pip and then import them into your code.\n",
        "\n",
        "Example of using a third-party module (assuming requests module is installed):\n",
        "\n"
      ],
      "metadata": {
        "id": "pNXcluKrrel7"
      }
    },
    {
      "cell_type": "code",
      "source": [
        "import requests\n",
        "\n",
        "response = requests.get(\"https://www.example.com\")\n",
        "print(response.status_code)  # Output: Status code of the HTTP response\n"
      ],
      "metadata": {
        "colab": {
          "base_uri": "https://localhost:8080/"
        },
        "id": "DBOXa695rjWJ",
        "outputId": "119d73fd-62d6-4719-9b7c-6f37e6d05293"
      },
      "execution_count": 17,
      "outputs": [
        {
          "output_type": "stream",
          "name": "stdout",
          "text": [
            "200\n"
          ]
        }
      ]
    }
  ]
}