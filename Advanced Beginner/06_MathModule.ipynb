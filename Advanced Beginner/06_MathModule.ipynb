{
  "nbformat": 4,
  "nbformat_minor": 0,
  "metadata": {
    "colab": {
      "provenance": [],
      "toc_visible": true
    },
    "kernelspec": {
      "name": "python3",
      "display_name": "Python 3"
    },
    "language_info": {
      "name": "python"
    }
  },
  "cells": [
    {
      "cell_type": "markdown",
      "source": [
        "**The Math Module**\n"
      ],
      "metadata": {
        "id": "YS2tdkABsfSO"
      }
    },
    {
      "cell_type": "code",
      "source": [
        "import math\n",
        "\n",
        "# Constants\n",
        "print(\"Value of pi:\", math.pi)  # Output: 3.141592653589793\n",
        "print(\"Value of Euler's number (e):\", math.e)  # Output: 2.718281828459045\n",
        "\n",
        "# Trigonometric functions (input angles are in radians)\n",
        "print(\"Sine of 30 degrees:\", math.sin(math.radians(30)))  # Output: 0.49999999999999994\n",
        "print(\"Cosine of 45 degrees:\", math.cos(math.radians(45)))  # Output: 0.7071067811865476\n",
        "\n",
        "# Exponential and logarithmic functions\n",
        "print(\"e raised to the power of 2:\", math.exp(2))  # Output: 7.3890560989306495\n",
        "print(\"Natural logarithm of 10:\", math.log(10))  # Output: 2.302585092994046\n",
        "\n",
        "# Power and square root\n",
        "print(\"2 raised to the power of 3:\", math.pow(2, 3))  # Output: 8.0\n",
        "print(\"Square root of 25:\", math.sqrt(25))  # Output: 5.0\n",
        "\n",
        "# Trigonometric constants and functions (input angles are in radians)\n",
        "print(\"Value of pi:\", math.pi)  # Output: 3.141592653589793\n",
        "print(\"Sine of pi/2:\", math.sin(math.pi/2))  # Output: 1.0\n",
        "print(\"Cosine of pi:\", math.cos(math.pi))  # Output: -1.0\n",
        "\n",
        "# Other mathematical functions\n",
        "print(\"Factorial of 5:\", math.factorial(5))  # Output: 120\n",
        "print(\"Greatest common divisor of 15 and 25:\", math.gcd(15, 25))  # Output: 5\n",
        "print(\"Ceiling of 4.2:\", math.ceil(4.2))  # Output: 5\n",
        "print(\"Floor of 4.8:\", math.floor(4.8))  # Output: 4\n"
      ],
      "metadata": {
        "colab": {
          "base_uri": "https://localhost:8080/"
        },
        "id": "nyV_jsYztYg_",
        "outputId": "aa51e8ff-3e47-4cc8-bd7f-cefb9ad77969"
      },
      "execution_count": 20,
      "outputs": [
        {
          "output_type": "stream",
          "name": "stdout",
          "text": [
            "Value of pi: 3.141592653589793\n",
            "Value of Euler's number (e): 2.718281828459045\n",
            "Sine of 30 degrees: 0.49999999999999994\n",
            "Cosine of 45 degrees: 0.7071067811865476\n",
            "e raised to the power of 2: 7.38905609893065\n",
            "Natural logarithm of 10: 2.302585092994046\n",
            "2 raised to the power of 3: 8.0\n",
            "Square root of 25: 5.0\n",
            "Value of pi: 3.141592653589793\n",
            "Sine of pi/2: 1.0\n",
            "Cosine of pi: -1.0\n",
            "Factorial of 5: 120\n",
            "Greatest common divisor of 15 and 25: 5\n",
            "Ceiling of 4.2: 5\n",
            "Floor of 4.8: 4\n"
          ]
        }
      ]
    }
  ]
}