{
  "nbformat": 4,
  "nbformat_minor": 0,
  "metadata": {
    "colab": {
      "provenance": [],
      "toc_visible": true
    },
    "kernelspec": {
      "name": "python3",
      "display_name": "Python 3"
    },
    "language_info": {
      "name": "python"
    }
  },
  "cells": [
    {
      "cell_type": "markdown",
      "source": [
        "**Python Datetime**"
      ],
      "metadata": {
        "id": "YS2tdkABsfSO"
      }
    },
    {
      "cell_type": "code",
      "source": [
        "import datetime\n",
        "\n",
        "# Get the current date and time\n",
        "current_datetime = datetime.datetime.now()\n",
        "print(\"Current date and time:\", current_datetime)\n",
        "\n",
        "# Get the current date\n",
        "current_date = datetime.date.today()\n",
        "print(\"Current date:\", current_date)\n",
        "\n",
        "# Get the current time\n",
        "current_time = datetime.datetime.now().time()\n",
        "print(\"Current time:\", current_time)\n",
        "\n",
        "# Create a datetime object for a specific date and time\n",
        "dt = datetime.datetime(2023, 12, 31, 23, 59, 59)\n",
        "print(\"Custom datetime:\", dt)\n",
        "\n",
        "# Create a datetime object from a string\n",
        "dt_str = \"2023-12-31 23:59:59\"\n",
        "dt_from_str = datetime.datetime.strptime(dt_str, \"%Y-%m-%d %H:%M:%S\")\n",
        "print(\"Datetime from string:\", dt_from_str)\n",
        "\n",
        "# Format a datetime object as a string\n",
        "formatted_dt = current_datetime.strftime(\"%Y-%m-%d %H:%M:%S\")\n",
        "print(\"Formatted datetime:\", formatted_dt)\n",
        "\n",
        "# Add a timedelta to a datetime object\n",
        "delta = datetime.timedelta(days=7)\n",
        "new_dt = current_datetime + delta\n",
        "print(\"New datetime after adding timedelta:\", new_dt)\n",
        "\n",
        "# Calculate the difference between two datetime objects\n",
        "diff = new_dt - current_datetime\n",
        "print(\"Difference between two datetimes:\", diff)\n",
        "\n",
        "\n"
      ],
      "metadata": {
        "colab": {
          "base_uri": "https://localhost:8080/"
        },
        "id": "jeurX-Kwsfub",
        "outputId": "1d93ef31-e84a-4c4c-d99a-0326a02291c7"
      },
      "execution_count": 18,
      "outputs": [
        {
          "output_type": "stream",
          "name": "stdout",
          "text": [
            "Current date and time: 2024-02-28 07:51:51.018440\n",
            "Current date: 2024-02-28\n",
            "Current time: 07:51:51.019098\n",
            "Custom datetime: 2023-12-31 23:59:59\n",
            "Datetime from string: 2023-12-31 23:59:59\n",
            "Formatted datetime: 2024-02-28 07:51:51\n",
            "New datetime after adding timedelta: 2024-03-06 07:51:51.018440\n",
            "Difference between two datetimes: 7 days, 0:00:00\n"
          ]
        }
      ]
    },
    {
      "cell_type": "markdown",
      "source": [
        "The **pytz library** is a Python package that provides support for working with timezones. It allows you to localize datetime objects to specific timezones, convert datetimes between different timezones, and perform timezone-aware arithmetic."
      ],
      "metadata": {
        "id": "p87mwZW0stdA"
      }
    },
    {
      "cell_type": "code",
      "source": [
        "import datetime\n",
        "import pytz\n",
        "\n",
        "# Get the current date and time in UTC\n",
        "utc_now = datetime.datetime.utcnow()\n",
        "\n",
        "# Localize the datetime to a specific timezone (e.g., America/New_York)\n",
        "eastern_tz = pytz.timezone('America/New_York')\n",
        "local_time = eastern_tz.localize(utc_now)\n",
        "\n",
        "# Convert the datetime to another timezone (e.g., Europe/London)\n",
        "london_tz = pytz.timezone('Europe/London')\n",
        "london_time = local_time.astimezone(london_tz)\n",
        "\n",
        "print(\"UTC Time:\", utc_now)\n",
        "print(\"Local Time (Eastern):\", local_time)\n",
        "print(\"Local Time (London):\", london_time)\n"
      ],
      "metadata": {
        "colab": {
          "base_uri": "https://localhost:8080/"
        },
        "id": "_Kl8xrousvfc",
        "outputId": "2507bf64-2dc4-4225-a0ed-4da8cf3b8d7c"
      },
      "execution_count": 19,
      "outputs": [
        {
          "output_type": "stream",
          "name": "stdout",
          "text": [
            "UTC Time: 2024-02-28 07:52:39.556715\n",
            "Local Time (Eastern): 2024-02-28 07:52:39.556715-05:00\n",
            "Local Time (London): 2024-02-28 12:52:39.556715+00:00\n"
          ]
        }
      ]
    }
  ]
}