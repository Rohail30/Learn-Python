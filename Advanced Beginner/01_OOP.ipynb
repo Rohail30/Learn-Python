{
  "nbformat": 4,
  "nbformat_minor": 0,
  "metadata": {
    "colab": {
      "provenance": [],
      "toc_visible": true
    },
    "kernelspec": {
      "name": "python3",
      "display_name": "Python 3"
    },
    "language_info": {
      "name": "python"
    }
  },
  "cells": [
    {
      "cell_type": "markdown",
      "source": [
        "# OOP"
      ],
      "metadata": {
        "id": "yzu8Jzx0iGTh"
      }
    },
    {
      "cell_type": "markdown",
      "source": [
        "**Classes:**\n",
        "\n",
        "A class is a blueprint or template for creating objects. It defines the properties and behaviors that objects of the class should have. In Python, you define a class using the class keyword followed by the class name and a colon. Inside the class definition, you define attributes (variables) and methods (functions) that belong to the class.\n",
        "\n",
        "**Objects:**\n",
        "\n",
        "An object is an instance of a class. It is a concrete realization of the class blueprint, with its own unique set of attribute values. You create objects of a class using the class name followed by parentheses, optionally passing arguments to the class constructor (__init__ method).\n",
        "\n",
        "**Attributes:**\n",
        "\n",
        "Attributes are variables that store data associated with objects. They represent the state of an object. Each object of a class has its own set of attribute values.\n",
        "\n",
        "**Methods:**\n",
        "\n",
        "Methods are functions defined within a class that perform operations on objects of the class. They represent the behavior of an object. Methods have access to the object's attributes through the self parameter."
      ],
      "metadata": {
        "id": "A4DlmC0AiRGa"
      }
    },
    {
      "cell_type": "code",
      "source": [
        "class Person:\n",
        "    def __init__(self, name, age):\n",
        "        self.name = name\n",
        "        self.age = age\n",
        "\n",
        "    def greet(self):\n",
        "        return f\"Hello, my name is {self.name} and I am {self.age} years old.\"\n",
        "\n",
        "# Creating objects of the Person class\n",
        "person1 = Person(\"Alice\", 30)\n",
        "person2 = Person(\"Bob\", 25)\n",
        "\n",
        "# Accessing attributes of objects\n",
        "print(person1.name)\n",
        "print(person2.age)\n",
        "\n",
        "# Calling methods of objects\n",
        "print(person1.greet())\n",
        "print(person2.greet())\n"
      ],
      "metadata": {
        "colab": {
          "base_uri": "https://localhost:8080/"
        },
        "id": "L9wYmmyOiZlT",
        "outputId": "7ac0b34e-47b8-4a80-f242-e9bec820663d"
      },
      "execution_count": 3,
      "outputs": [
        {
          "output_type": "stream",
          "name": "stdout",
          "text": [
            "Alice\n",
            "25\n",
            "Hello, my name is Alice and I am 30 years old.\n",
            "Hello, my name is Bob and I am 25 years old.\n"
          ]
        }
      ]
    },
    {
      "cell_type": "markdown",
      "source": [
        "**Inheritance:**\n",
        "\n",
        "Inheritance is a mechanism in OOP that allows a class (subclass) to inherit properties and behaviors from another class (superclass). It promotes code reusability and allows you to create specialized classes based on existing ones."
      ],
      "metadata": {
        "id": "Uq1mXIIUjjAi"
      }
    },
    {
      "cell_type": "code",
      "source": [
        "# Parent class (superclass)\n",
        "class Animal:\n",
        "    def __init__(self, name):\n",
        "        self.name = name\n",
        "\n",
        "    def sound(self):\n",
        "        return \"Some generic sound\"\n",
        "\n",
        "# Child class (subclass) inheriting from Animal\n",
        "class Dog(Animal):\n",
        "    def __init__(self, name, breed):\n",
        "        # Call the constructor of the superclass\n",
        "        super().__init__(name)\n",
        "        self.breed = breed\n",
        "\n",
        "    # Override the sound method of the superclass\n",
        "    def sound(self):\n",
        "        return \"Woof!\"\n",
        "\n",
        "# Child class (subclass) inheriting from Animal\n",
        "class Cat(Animal):\n",
        "    def __init__(self, name, color):\n",
        "        # Call the constructor of the superclass\n",
        "        super().__init__(name)\n",
        "        self.color = color\n",
        "\n",
        "    # Override the sound method of the superclass\n",
        "    def sound(self):\n",
        "        return \"Meow!\"\n",
        "\n",
        "# Create objects of the subclasses\n",
        "dog = Dog(\"Buddy\", \"Labrador\")\n",
        "cat = Cat(\"Whiskers\", \"Gray\")\n",
        "\n",
        "# Call methods of the objects\n",
        "print(f\"{dog.name} is a {dog.breed} and says {dog.sound()}\")  # Output: Buddy is a Labrador and says Woof!\n",
        "print(f\"{cat.name} is a {cat.color} cat and says {cat.sound()}\")  # Output: Whiskers is a Gray cat and says Meow!\n"
      ],
      "metadata": {
        "colab": {
          "base_uri": "https://localhost:8080/"
        },
        "id": "SDQtvbWPjqJH",
        "outputId": "18e254ba-f4fa-4847-d1ee-b45b1ee7a030"
      },
      "execution_count": 5,
      "outputs": [
        {
          "output_type": "stream",
          "name": "stdout",
          "text": [
            "Buddy is a Labrador and says Woof!\n",
            "Whiskers is a Gray cat and says Meow!\n"
          ]
        }
      ]
    },
    {
      "cell_type": "markdown",
      "source": [
        "**Encapsulation:**\n",
        "\n",
        "Encapsulation refers to the bundling of data (attributes) and methods that operate on the data within a single unit (class). It hides the internal state of an object and only exposes necessary operations through methods.\n",
        "\n",
        "\n",
        "*In Python, self is a reference to the current instance of the class. When you create an instance of a class and call its methods, Python automatically passes the instance itself as the first argument to the method. By convention, this first parameter is named self, but you can name it anything you like (although it's highly recommended to stick with self for clarity and consistency).*\n",
        "\n",
        "*In Python, you can make a variable private by prefixing its name with two underscore characters (__). *\n"
      ],
      "metadata": {
        "id": "-4eaGAk4kIPU"
      }
    },
    {
      "cell_type": "code",
      "source": [
        "class Car:\n",
        "    def __init__(self, brand, model):\n",
        "        self.brand = brand\n",
        "        self.model = model\n",
        "        self.__speed = 0  # Speed attribute is private\n",
        "\n",
        "    def accelerate(self, increment):\n",
        "        self.__speed += increment\n",
        "\n",
        "    def get_speed(self):\n",
        "        return self.__speed\n",
        "\n",
        "# Create an object of the Car class\n",
        "car = Car(\"Toyota\", \"Camry\")\n",
        "\n",
        "# Accessing and modifying private attribute directly (which should be avoided)\n",
        "# car.__speed = 100  # This won't change the actual speed attribute due to encapsulation\n",
        "\n",
        "# Accessing private attribute through public method\n",
        "car.accelerate(50)\n",
        "print(\"Current speed:\", car.get_speed())\n"
      ],
      "metadata": {
        "colab": {
          "base_uri": "https://localhost:8080/"
        },
        "id": "kWCwCnx6kBI0",
        "outputId": "1339d0a2-9208-4598-e8de-e93c8b271c44"
      },
      "execution_count": 6,
      "outputs": [
        {
          "output_type": "stream",
          "name": "stdout",
          "text": [
            "Current speed: 50\n"
          ]
        }
      ]
    },
    {
      "cell_type": "markdown",
      "source": [
        "**Polymorphism:**\n",
        "\n",
        "Polymorphism allows objects of different classes to be treated as objects of a common superclass. It allows methods to behave differently based on the object they operate on.\n",
        "\n",
        "*Polymorphism is demonstrated by the sound method of the Animal class being overridden in the Dog and Cat subclasses.*"
      ],
      "metadata": {
        "id": "WaHMowAQlbF0"
      }
    },
    {
      "cell_type": "code",
      "source": [
        "class Animal:\n",
        "    def sound(self):\n",
        "        return \"Some generic sound\"\n",
        "\n",
        "class Dog(Animal):\n",
        "    def sound(self):\n",
        "        return \"Woof!\"\n",
        "\n",
        "class Cat(Animal):\n",
        "    def sound(self):\n",
        "        return \"Meow!\"\n",
        "\n",
        "# Function demonstrating polymorphism\n",
        "def make_sound(animal):\n",
        "    return animal.sound()\n",
        "\n",
        "# Create objects of different classes\n",
        "dog = Dog()\n",
        "cat = Cat()\n",
        "\n",
        "# Call the function with different objects\n",
        "print(\"Dog says:\", make_sound(dog))\n",
        "print(\"Cat says:\", make_sound(cat))\n"
      ],
      "metadata": {
        "colab": {
          "base_uri": "https://localhost:8080/"
        },
        "id": "x_DK8YqNleCB",
        "outputId": "b27b5aeb-bed2-4f9d-d97d-872f7be1c576"
      },
      "execution_count": 7,
      "outputs": [
        {
          "output_type": "stream",
          "name": "stdout",
          "text": [
            "Dog says: Woof!\n",
            "Cat says: Meow!\n"
          ]
        }
      ]
    },
    {
      "cell_type": "markdown",
      "source": [
        "**Abstraction:**\n",
        "\n",
        "Abstraction involves hiding the implementation details of a class and exposing only essential features to the outside world. It focuses on what an object does rather than how it does it.\n",
        "\n",
        "*Abstraction is demonstrated by defining an abstract class Shape with abstract methods area and perimeter, which must be implemented by concrete subclasses like Rectangle.*"
      ],
      "metadata": {
        "id": "XwKFOwbqljJN"
      }
    },
    {
      "cell_type": "code",
      "source": [
        "from abc import ABC, abstractmethod\n",
        "\n",
        "# Abstract class defining the interface\n",
        "class Shape(ABC):\n",
        "    @abstractmethod\n",
        "    def area(self):\n",
        "        pass\n",
        "\n",
        "    @abstractmethod\n",
        "    def perimeter(self):\n",
        "        pass\n",
        "\n",
        "# Concrete subclass implementing the interface\n",
        "class Rectangle(Shape):\n",
        "    def __init__(self, width, height):\n",
        "        self.width = width\n",
        "        self.height = height\n",
        "\n",
        "    def area(self):\n",
        "        return self.width * self.height\n",
        "\n",
        "    def perimeter(self):\n",
        "        return 2 * (self.width + self.height)\n",
        "\n",
        "# Create an object of the Rectangle class\n",
        "rectangle = Rectangle(5, 4)\n",
        "\n",
        "# Calling the methods of the Rectangle class\n",
        "print(\"Area:\", rectangle.area())  # Output: Area: 20\n",
        "print(\"Perimeter:\", rectangle.perimeter())  #\n"
      ],
      "metadata": {
        "colab": {
          "base_uri": "https://localhost:8080/"
        },
        "id": "tdVwk2ZqmIxx",
        "outputId": "033e2f8d-8b32-480b-e40e-fc30e2ead749"
      },
      "execution_count": 8,
      "outputs": [
        {
          "output_type": "stream",
          "name": "stdout",
          "text": [
            "Area: 20\n",
            "Perimeter: 18\n"
          ]
        }
      ]
    }
  ]
}